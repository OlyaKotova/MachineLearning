{
 "cells": [
  {
   "cell_type": "markdown",
   "metadata": {},
   "source": [
    "## Задание №3\n",
    "\n",
    "Обучить на своих данных: 1) random forests, 2) extremely random forests, 3) adaboost, 4) gradient boosted trees. Построить графики зависимости ошибки (на тестовой и обучающейся выборках, а также oob-ошибку) от количества используемых деревьев. Ответить на вопрос - Наблюдается ли переобучение/недообучение?"
   ]
  },
  {
   "cell_type": "code",
   "execution_count": 2,
   "metadata": {
    "collapsed": true
   },
   "outputs": [],
   "source": [
    "# Загружаем данные:\n",
    "import numpy as np\n",
    "import matplotlib.pyplot as plt\n",
    "import pandas as pd\n",
    "%matplotlib inline"
   ]
  },
  {
   "cell_type": "code",
   "execution_count": 3,
   "metadata": {
    "collapsed": true
   },
   "outputs": [],
   "source": [
    "url = 'https://github.com/OlyaKotova/MachineLearning/tree/master/Data_Cortex_Nuclear(csv).csv'\n",
    "data = pd.read_csv(url, sep = ',', engine = 'python')"
   ]
  },
  {
   "cell_type": "code",
   "execution_count": 5,
   "metadata": {
    "scrolled": true
   },
   "outputs": [
    {
     "data": {
      "text/plain": [
       "MouseID            1080\n",
       "DYRK1A_N           1077\n",
       "ITSN1_N            1077\n",
       "BDNF_N             1077\n",
       "NR1_N              1077\n",
       "NR2A_N             1077\n",
       "pAKT_N             1077\n",
       "pBRAF_N            1077\n",
       "pCAMKII_N          1077\n",
       "pCREB_N            1077\n",
       "pELK_N             1077\n",
       "pERK_N             1077\n",
       "pJNK_N             1077\n",
       "PKCA_N             1077\n",
       "pMEK_N             1077\n",
       "pNR1_N             1077\n",
       "pNR2A_N            1077\n",
       "pNR2B_N            1077\n",
       "pPKCAB_N           1077\n",
       "pRSK_N             1077\n",
       "AKT_N              1077\n",
       "BRAF_N             1077\n",
       "CAMKII_N           1077\n",
       "CREB_N             1077\n",
       "ELK_N              1062\n",
       "ERK_N              1077\n",
       "GSK3B_N            1077\n",
       "JNK_N              1077\n",
       "MEK_N              1073\n",
       "TRKA_N             1077\n",
       "                   ... \n",
       "RRP1_N             1080\n",
       "BAX_N              1080\n",
       "ARC_N              1080\n",
       "ERBB4_N            1080\n",
       "nNOS_N             1080\n",
       "Tau_N              1080\n",
       "GFAP_N             1080\n",
       "GluR3_N            1080\n",
       "GluR4_N            1080\n",
       "IL1B_N             1080\n",
       "P3525_N            1080\n",
       "pCASP9_N           1080\n",
       "PSD95_N            1080\n",
       "SNCA_N             1080\n",
       "Ubiquitin_N        1080\n",
       "pGSK3B_Tyr216_N    1080\n",
       "SHH_N              1080\n",
       "BAD_N               867\n",
       "BCL2_N              795\n",
       "pS6_N              1080\n",
       "pCFOS_N            1005\n",
       "SYP_N              1080\n",
       "H3AcK18_N           900\n",
       "EGR1_N              870\n",
       "H3MeK4_N            810\n",
       "CaNA_N             1080\n",
       "Genotype           1080\n",
       "Treatment          1080\n",
       "Behavior           1080\n",
       "class              1080\n",
       "Length: 82, dtype: int64"
      ]
     },
     "execution_count": 5,
     "metadata": {},
     "output_type": "execute_result"
    }
   ],
   "source": [
    "# Заполнение пустых\n",
    "data.count(axis = 0)"
   ]
  },
  {
   "cell_type": "markdown",
   "metadata": {},
   "source": [
    "Есть пропущеные значения."
   ]
  },
  {
   "cell_type": "code",
   "execution_count": 6,
   "metadata": {
    "collapsed": true
   },
   "outputs": [],
   "source": [
    "data = data.fillna(data.median(axis = 0), axis = 0)"
   ]
  },
  {
   "cell_type": "code",
   "execution_count": 8,
   "metadata": {
    "collapsed": true
   },
   "outputs": [],
   "source": [
    "# удаление столбцов\n",
    "data = data.drop('Genotype', axis = 1)  # повотряется\n",
    "data = data.drop('Treatment', axis = 1) # повотряется\n",
    "data = data.drop('Behavior', axis = 1)  # повотряется\n",
    "    \n",
    "data = data.drop('MouseID', axis = 1)   # индетификатор"
   ]
  },
  {
   "cell_type": "code",
   "execution_count": 10,
   "metadata": {
    "collapsed": true
   },
   "outputs": [],
   "source": [
    "X = data.drop(('class'), axis = 1)\n",
    "y = data['class']"
   ]
  },
  {
   "cell_type": "code",
   "execution_count": 11,
   "metadata": {},
   "outputs": [
    {
     "name": "stdout",
     "output_type": "stream",
     "text": [
      "(1080, 77)\n",
      "(1080,)\n"
     ]
    }
   ],
   "source": [
    "print(X.shape)\n",
    "print(y.shape)"
   ]
  },
  {
   "cell_type": "code",
   "execution_count": 13,
   "metadata": {
    "collapsed": true
   },
   "outputs": [],
   "source": [
    "# Разбиваем данные на обучающую и тестовую выборки:\n",
    "from sklearn.model_selection import train_test_split\n",
    "X_train, X_test, y_train, y_test = train_test_split(X, y, test_size = 0.4, random_state = 5)\n",
    "N_test, _ = X_test.shape"
   ]
  },
  {
   "cell_type": "markdown",
   "metadata": {},
   "source": [
    "## Random Forest"
   ]
  },
  {
   "cell_type": "code",
   "execution_count": 14,
   "metadata": {},
   "outputs": [
    {
     "data": {
      "text/plain": [
       "RandomForestClassifier(bootstrap=True, class_weight=None, criterion='gini',\n",
       "            max_depth=None, max_features='auto', max_leaf_nodes=None,\n",
       "            min_impurity_split=1e-07, min_samples_leaf=1,\n",
       "            min_samples_split=2, min_weight_fraction_leaf=0.0,\n",
       "            n_estimators=25, n_jobs=1, oob_score=False, random_state=None,\n",
       "            verbose=0, warm_start=False)"
      ]
     },
     "execution_count": 14,
     "metadata": {},
     "output_type": "execute_result"
    }
   ],
   "source": [
    "# Проведем обучение Random Forest классификатора на тренировочной выборке с параметром\n",
    "from sklearn import ensemble\n",
    "rf = ensemble.RandomForestClassifier(n_estimators = 25) \n",
    "rf.fit(X_train, y_train)"
   ]
  },
  {
   "cell_type": "code",
   "execution_count": 15,
   "metadata": {},
   "outputs": [
    {
     "name": "stdout",
     "output_type": "stream",
     "text": [
      "Ошибка на обучающей выборке:  0.0\n",
      "Ошибка на тестовой выборке:  0.037037037037\n"
     ]
    }
   ],
   "source": [
    "# Проверим качество классификатора по величине ошибки на тестовой и обучающей выборках\n",
    "err_train = np.mean(y_train != rf.predict(X_train))\n",
    "err_test  = np.mean(y_test  != rf.predict(X_test))\n",
    "\n",
    "print(\"Ошибка на обучающей выборке: \", err_train)\n",
    "print(\"Ошибка на тестовой выборке: \", err_test)"
   ]
  },
  {
   "cell_type": "markdown",
   "metadata": {},
   "source": [
    "Ошибка на обучающей выборке оказалась меньше ошибки на тестовой выборке => переобучение. Попробуем подобрать более удачное число деревьев.\n",
    "\n",
    "Строим зависимость числа ошибок (тестовая и обучающей выборки) от числа деревьев."
   ]
  },
  {
   "cell_type": "code",
   "execution_count": 19,
   "metadata": {},
   "outputs": [
    {
     "name": "stderr",
     "output_type": "stream",
     "text": [
      "C:\\Program Files\\Anaconda3\\lib\\site-packages\\sklearn\\ensemble\\forest.py:439: UserWarning: Some inputs do not have OOB scores. This probably means too few trees were used to compute any reliable oob estimates.\n",
      "  warn(\"Some inputs do not have OOB scores. \"\n",
      "C:\\Program Files\\Anaconda3\\lib\\site-packages\\sklearn\\ensemble\\forest.py:444: RuntimeWarning: invalid value encountered in true_divide\n",
      "  predictions[k].sum(axis=1)[:, np.newaxis])\n",
      "C:\\Program Files\\Anaconda3\\lib\\site-packages\\sklearn\\ensemble\\forest.py:439: UserWarning: Some inputs do not have OOB scores. This probably means too few trees were used to compute any reliable oob estimates.\n",
      "  warn(\"Some inputs do not have OOB scores. \"\n",
      "C:\\Program Files\\Anaconda3\\lib\\site-packages\\sklearn\\ensemble\\forest.py:444: RuntimeWarning: invalid value encountered in true_divide\n",
      "  predictions[k].sum(axis=1)[:, np.newaxis])\n",
      "C:\\Program Files\\Anaconda3\\lib\\site-packages\\sklearn\\ensemble\\forest.py:439: UserWarning: Some inputs do not have OOB scores. This probably means too few trees were used to compute any reliable oob estimates.\n",
      "  warn(\"Some inputs do not have OOB scores. \"\n",
      "C:\\Program Files\\Anaconda3\\lib\\site-packages\\sklearn\\ensemble\\forest.py:444: RuntimeWarning: invalid value encountered in true_divide\n",
      "  predictions[k].sum(axis=1)[:, np.newaxis])\n",
      "C:\\Program Files\\Anaconda3\\lib\\site-packages\\sklearn\\ensemble\\forest.py:439: UserWarning: Some inputs do not have OOB scores. This probably means too few trees were used to compute any reliable oob estimates.\n",
      "  warn(\"Some inputs do not have OOB scores. \"\n",
      "C:\\Program Files\\Anaconda3\\lib\\site-packages\\sklearn\\ensemble\\forest.py:444: RuntimeWarning: invalid value encountered in true_divide\n",
      "  predictions[k].sum(axis=1)[:, np.newaxis])\n"
     ]
    },
    {
     "data": {
      "image/png": "[encoded data removed]",
      "text/plain": [
       "<matplotlib.figure.Figure at 0x154bf21b9e8>"
      ]
     },
     "metadata": {},
     "output_type": "display_data"
    }
   ],
   "source": [
    "# Вычислим значения ошибок для различных деревьев\n",
    "trees_arr = np.arange(10, 150, 2)\n",
    "test_err = []\n",
    "train_err = []\n",
    "oob_err = []\n",
    "for trees in trees_arr:\n",
    "    rf = ensemble.RandomForestClassifier(n_estimators = trees, oob_score=True)\n",
    "    rf.fit(X_train, y_train)\n",
    "    train_err.append(np.mean(y_train != rf.predict(X_train)))\n",
    "    test_err.append(np.mean(y_test  != rf.predict(X_test)))\n",
    "    oob_err.append(1 - rf.oob_score_)\n",
    "    \n",
    "# Построим график величины ошибки от количества деревьев\n",
    "plt.figure(figsize = (16, 6))\n",
    "plt.plot(trees_arr, train_err, 'b-o', label = 'train')\n",
    "plt.plot(trees_arr, test_err, 'r-o', label = 'test')\n",
    "plt.plot(trees_arr, oob_err, 'g-o', label = 'oob')\n",
    "plt.xlim([np.max(trees_arr), np.min(trees_arr)])\n",
    "plt.title('Error vs. number of trees')\n",
    "plt.xlabel('trees')\n",
    "plt.ylabel('error')\n",
    "plt.legend()\n",
    "pass"
   ]
  },
  {
   "cell_type": "code",
   "execution_count": 20,
   "metadata": {},
   "outputs": [
    {
     "name": "stdout",
     "output_type": "stream",
     "text": [
      "Минимальная ошибка на обучающей выборке:  0.0\n",
      "Минимальная ошибка на тестовой выборке:  0.00462962962963\n"
     ]
    }
   ],
   "source": [
    "# Минимальное значение ошибки:\n",
    "min_train_err = np.min(train_err)\n",
    "min_test_err = np.min(test_err)\n",
    "\n",
    "print(\"Минимальная ошибка на обучающей выборке: \", min_train_err)\n",
    "print(\"Минимальная ошибка на тестовой выборке: \", min_test_err)"
   ]
  },
  {
   "cell_type": "markdown",
   "metadata": {},
   "source": [
    "Переобучение мало, ошибка стала меньше."
   ]
  },
  {
   "cell_type": "code",
   "execution_count": 21,
   "metadata": {},
   "outputs": [
    {
     "name": "stdout",
     "output_type": "stream",
     "text": [
      "[58]\n"
     ]
    }
   ],
   "source": [
    "# Оптимальное количество деревьев:\n",
    "trees_opt = trees_arr[test_err == min_test_err]\n",
    "print(trees_opt)"
   ]
  },
  {
   "cell_type": "markdown",
   "metadata": {},
   "source": [
    "Переобучение сохраняется везде, но наименьшее знание ошибки достигается на 58-х деревьях."
   ]
  },
  {
   "cell_type": "markdown",
   "metadata": {},
   "source": [
    "## Extremely Randomized Trees"
   ]
  },
  {
   "cell_type": "code",
   "execution_count": 22,
   "metadata": {},
   "outputs": [
    {
     "name": "stdout",
     "output_type": "stream",
     "text": [
      "Ошибка на обучающей выборке:  0.0\n",
      "Ошибка на тестовой выборке:  0.00462962962963\n"
     ]
    }
   ],
   "source": [
    "# Обучаем классификатор вида Extremely Randomized Trees\n",
    "ert = ensemble.ExtraTreesClassifier(n_estimators = 50) # n_estimators = 50 (кол-во построенных деревьев)\n",
    "ert.fit(X_train, y_train)\n",
    "\n",
    "# Проверим качество классификатора по величине ошибки на тестовой и обучающей выборках\n",
    "err_train = np.mean(y_train != ert.predict(X_train))\n",
    "err_test  = np.mean(y_test  != ert.predict(X_test))\n",
    "\n",
    "print(\"Ошибка на обучающей выборке: \", err_train)\n",
    "print(\"Ошибка на тестовой выборке: \", err_test)"
   ]
  },
  {
   "cell_type": "markdown",
   "metadata": {},
   "source": [
    "Можно заметить переобучение. График ошибок на тестовой выборке, обучающей выборке; OOB-ошибка зависящая от числа деревьев:"
   ]
  },
  {
   "cell_type": "code",
   "execution_count": 23,
   "metadata": {},
   "outputs": [
    {
     "name": "stderr",
     "output_type": "stream",
     "text": [
      "C:\\Program Files\\Anaconda3\\lib\\site-packages\\sklearn\\ensemble\\forest.py:439: UserWarning: Some inputs do not have OOB scores. This probably means too few trees were used to compute any reliable oob estimates.\n",
      "  warn(\"Some inputs do not have OOB scores. \"\n",
      "C:\\Program Files\\Anaconda3\\lib\\site-packages\\sklearn\\ensemble\\forest.py:444: RuntimeWarning: invalid value encountered in true_divide\n",
      "  predictions[k].sum(axis=1)[:, np.newaxis])\n",
      "C:\\Program Files\\Anaconda3\\lib\\site-packages\\sklearn\\ensemble\\forest.py:439: UserWarning: Some inputs do not have OOB scores. This probably means too few trees were used to compute any reliable oob estimates.\n",
      "  warn(\"Some inputs do not have OOB scores. \"\n",
      "C:\\Program Files\\Anaconda3\\lib\\site-packages\\sklearn\\ensemble\\forest.py:444: RuntimeWarning: invalid value encountered in true_divide\n",
      "  predictions[k].sum(axis=1)[:, np.newaxis])\n",
      "C:\\Program Files\\Anaconda3\\lib\\site-packages\\sklearn\\ensemble\\forest.py:439: UserWarning: Some inputs do not have OOB scores. This probably means too few trees were used to compute any reliable oob estimates.\n",
      "  warn(\"Some inputs do not have OOB scores. \"\n",
      "C:\\Program Files\\Anaconda3\\lib\\site-packages\\sklearn\\ensemble\\forest.py:444: RuntimeWarning: invalid value encountered in true_divide\n",
      "  predictions[k].sum(axis=1)[:, np.newaxis])\n"
     ]
    },
    {
     "data": {
      "image/png": "[encoded data removed]",
      "text/plain": [
       "<matplotlib.figure.Figure at 0x154bf2ecac8>"
      ]
     },
     "metadata": {},
     "output_type": "display_data"
    }
   ],
   "source": [
    "# Вычислим значения ошибок для различных деревьев\n",
    "trees_arr = np.arange(10, 150, 2)\n",
    "test_err = []\n",
    "train_err = []\n",
    "oob_err = []\n",
    "for trees in trees_arr:\n",
    "    rf = ensemble.RandomForestClassifier(n_estimators = trees, oob_score=True)\n",
    "    rf.fit(X_train, y_train)\n",
    "    train_err.append(np.mean(y_train != rf.predict(X_train)))\n",
    "    test_err.append(np.mean(y_test  != rf.predict(X_test)))\n",
    "    oob_err.append(1 - rf.oob_score_)\n",
    "    \n",
    "# Построим график величины ошибки от количества деревьев\n",
    "plt.figure(figsize = (16, 6))\n",
    "plt.plot(trees_arr, train_err, 'b-o', label = 'train')\n",
    "plt.plot(trees_arr, test_err, 'r-o', label = 'test')\n",
    "plt.plot(trees_arr, oob_err, 'g-o', label = 'oob')\n",
    "plt.xlim([np.max(trees_arr), np.min(trees_arr)])\n",
    "plt.title('Error vs. number of trees')\n",
    "plt.xlabel('trees')\n",
    "plt.ylabel('error')\n",
    "plt.legend()\n",
    "pass"
   ]
  },
  {
   "cell_type": "markdown",
   "metadata": {},
   "source": [
    "Не получилось добиться лучшего результата, наблюдается переобучение. \n",
    "Посмотрим на значение ошибки:"
   ]
  },
  {
   "cell_type": "code",
   "execution_count": 24,
   "metadata": {},
   "outputs": [
    {
     "name": "stdout",
     "output_type": "stream",
     "text": [
      "Минимальная ошибка на обучающей выборке:  0.0\n",
      "Минимальная ошибка на тестовой выборке:  0.00925925925926\n"
     ]
    }
   ],
   "source": [
    "# Минимальное значение ошибки:\n",
    "min_train_err = np.min(train_err)\n",
    "min_test_err = np.min(test_err)\n",
    "\n",
    "print(\"Минимальная ошибка на обучающей выборке: \", min_train_err)\n",
    "print(\"Минимальная ошибка на тестовой выборке: \", min_test_err)"
   ]
  },
  {
   "cell_type": "markdown",
   "metadata": {},
   "source": [
    " Ошибка почти в два раза больше чем в предыдущем методе."
   ]
  },
  {
   "cell_type": "code",
   "execution_count": 25,
   "metadata": {},
   "outputs": [
    {
     "name": "stdout",
     "output_type": "stream",
     "text": [
      "[ 42 140]\n"
     ]
    }
   ],
   "source": [
    "# Оптимальное количество деревьев:\n",
    "trees_opt = trees_arr[test_err == min_test_err]\n",
    "print(trees_opt)"
   ]
  },
  {
   "cell_type": "markdown",
   "metadata": {},
   "source": [
    "## Adaboost"
   ]
  },
  {
   "cell_type": "code",
   "execution_count": 30,
   "metadata": {
    "collapsed": true
   },
   "outputs": [],
   "source": [
    "# Разобъем данные на тестовую и обучающую выборки\n",
    "X_train, X_test, y_train, y_test = train_test_split(X, y, test_size = 0.4, random_state = 5)"
   ]
  },
  {
   "cell_type": "code",
   "execution_count": 31,
   "metadata": {},
   "outputs": [
    {
     "name": "stdout",
     "output_type": "stream",
     "text": [
      "Ошибка на обучающей выборке:  0.671296296296\n",
      "Ошибка на тестовой выборке:  0.726851851852\n"
     ]
    }
   ],
   "source": [
    "# Обучаем классификатор вида AdaBoost\n",
    "ab = ensemble.AdaBoostClassifier(n_estimators = 50) # n_estimators = 50 (кол-во классификаторов)\n",
    "ab.fit(X_train, y_train)\n",
    "\n",
    "# Проверим качество классификатора по величине ошибки на тестовой и обучающей выборках\n",
    "err_train = np.mean(y_train != ab.predict(X_train))\n",
    "err_test  = np.mean(y_test  != ab.predict(X_test))\n",
    "\n",
    "print(\"Ошибка на обучающей выборке: \", err_train)\n",
    "print(\"Ошибка на тестовой выборке: \", err_test)"
   ]
  },
  {
   "cell_type": "markdown",
   "metadata": {},
   "source": [
    " Наблюдаем переобучение и большую вероятность ошибки."
   ]
  },
  {
   "cell_type": "markdown",
   "metadata": {},
   "source": [
    " Построим график зависимости ошибок:"
   ]
  },
  {
   "cell_type": "code",
   "execution_count": 32,
   "metadata": {},
   "outputs": [
    {
     "data": {
      "image/png": "[encoded data removed]",
      "text/plain": [
       "<matplotlib.figure.Figure at 0x154bf307780>"
      ]
     },
     "metadata": {},
     "output_type": "display_data"
    }
   ],
   "source": [
    "# Вычислим значения ошибок для различного количества классификаторов\n",
    "estimator_arr = np.arange(15, 150, 2)\n",
    "test_err = []\n",
    "train_err = []\n",
    "for estimator in estimator_arr:\n",
    "    ab = ensemble.AdaBoostClassifier(n_estimators = estimator)\n",
    "    ab.fit(X_train, y_train)\n",
    "    train_err.append(np.mean(y_train != ab.predict(X_train)))\n",
    "    test_err.append(np.mean(y_test  != ab.predict(X_test)))\n",
    "    \n",
    "# Построим график величины ошибок\n",
    "plt.figure(figsize = (16, 6))\n",
    "plt.plot(estimator_arr, train_err, 'b-o', label = 'train')\n",
    "plt.plot(estimator_arr, test_err, 'r-o', label = 'test')\n",
    "plt.xlim([np.min(estimator_arr), np.max(estimator_arr)])\n",
    "plt.title('Error vs. Count of estimator')\n",
    "plt.xlabel('Count of estimator')\n",
    "plt.ylabel('Error')\n",
    "plt.legend()\n",
    "pass"
   ]
  },
  {
   "cell_type": "markdown",
   "metadata": {},
   "source": [
    " Переобучение сохраняется везде, но есть несколько значений минимумов."
   ]
  },
  {
   "cell_type": "code",
   "execution_count": 33,
   "metadata": {},
   "outputs": [
    {
     "name": "stdout",
     "output_type": "stream",
     "text": [
      "Минимальная ошибка на обучающей выборке:  0.672839506173\n",
      "Минимальная ошибка на тестовой выборке:  0.708333333333\n"
     ]
    }
   ],
   "source": [
    "# Минимальное значение ошибки:\n",
    "min_train_err = np.min(train_err)\n",
    "min_test_err = np.min(test_err)\n",
    "\n",
    "print(\"Минимальная ошибка на обучающей выборке: \", min_train_err)\n",
    "print(\"Минимальная ошибка на тестовой выборке: \", min_test_err)"
   ]
  },
  {
   "cell_type": "markdown",
   "metadata": {},
   "source": [
    "Ошибки имеют большое значение, хотя и близки."
   ]
  },
  {
   "cell_type": "code",
   "execution_count": 34,
   "metadata": {},
   "outputs": [
    {
     "name": "stdout",
     "output_type": "stream",
     "text": [
      "[ 35  43  45  49 129]\n"
     ]
    }
   ],
   "source": [
    "# Оптимальное количество классификаторов:\n",
    "estimator_opt = estimator_arr[test_err == min_test_err]\n",
    "print(estimator_opt)"
   ]
  },
  {
   "cell_type": "markdown",
   "metadata": {},
   "source": [
    "## Gradient Boosted Trees"
   ]
  },
  {
   "cell_type": "code",
   "execution_count": 36,
   "metadata": {
    "collapsed": true
   },
   "outputs": [],
   "source": [
    "# Разобъем даные немного по другому\n",
    "X_train, X_test, y_train, y_test = train_test_split(X, y, test_size = 0.3, random_state = 8)"
   ]
  },
  {
   "cell_type": "code",
   "execution_count": 38,
   "metadata": {},
   "outputs": [
    {
     "name": "stdout",
     "output_type": "stream",
     "text": [
      "Ошибка на обучающей выборке:  0.0\n",
      "Ошибка на тестовой выборке:  0.0432098765432\n"
     ]
    }
   ],
   "source": [
    "# Обучаем классификатор вида AdaBoost\n",
    "gbt = ensemble.GradientBoostingClassifier(n_estimators = 50) # n_estimators = 50 (кол-во деревьев)\n",
    "gbt.fit(X_train, y_train)\n",
    "\n",
    "# Проверим качество классификатора по величине ошибки на тестовой и обучающей выборках\n",
    "err_train = np.mean(y_train != gbt.predict(X_train))\n",
    "err_test  = np.mean(y_test  != gbt.predict(X_test))\n",
    "\n",
    "print(\"Ошибка на обучающей выборке: \", err_train)\n",
    "print(\"Ошибка на тестовой выборке: \", err_test)"
   ]
  },
  {
   "cell_type": "markdown",
   "metadata": {},
   "source": [
    " Наблюдаем переобучение. Построим график зависимости ошибок."
   ]
  },
  {
   "cell_type": "code",
   "execution_count": 40,
   "metadata": {},
   "outputs": [
    {
     "data": {
      "image/png": "[encoded data removed]",
      "text/plain": [
       "<matplotlib.figure.Figure at 0x154bf1ff588>"
      ]
     },
     "metadata": {},
     "output_type": "display_data"
    }
   ],
   "source": [
    "# Вычислим значения ошибок для различного количества деревьев\n",
    "trees_arr = np.arange(2, 150, 2)\n",
    "test_err = []\n",
    "train_err = []\n",
    "for trees in trees_arr:\n",
    "    gbt = ensemble.GradientBoostingClassifier(n_estimators = trees)\n",
    "    gbt.fit(X_train, y_train)\n",
    "    train_err.append(np.mean(y_train != gbt.predict(X_train)))\n",
    "    test_err.append(np.mean(y_test  != gbt.predict(X_test)))\n",
    "# Построим график величины ошибок\n",
    "plt.figure(figsize = (16, 6))\n",
    "plt.plot(trees_arr, train_err, 'b-o', label = 'train')\n",
    "plt.plot(trees_arr, test_err, 'r-o', label = 'test')\n",
    "plt.xlim([np.max(trees_arr), np.min(trees_arr)])\n",
    "plt.title('Error vs. number of trees')\n",
    "plt.xlabel('trees')\n",
    "plt.ylabel('error')\n",
    "plt.legend()\n",
    "pass"
   ]
  },
  {
   "cell_type": "markdown",
   "metadata": {},
   "source": [
    "Узнаем значения минимумов"
   ]
  },
  {
   "cell_type": "code",
   "execution_count": 41,
   "metadata": {},
   "outputs": [
    {
     "name": "stdout",
     "output_type": "stream",
     "text": [
      "Минимальная ошибка на обучающей выборке:  0.0\n",
      "Минимальная ошибка на тестовой выборке:  0.0216049382716\n"
     ]
    }
   ],
   "source": [
    "# Минимальное значение ошибки:\n",
    "min_train_err = np.min(train_err)\n",
    "min_test_err = np.min(test_err)\n",
    "\n",
    "print(\"Минимальная ошибка на обучающей выборке: \", min_train_err)\n",
    "print(\"Минимальная ошибка на тестовой выборке: \", min_test_err)"
   ]
  },
  {
   "cell_type": "markdown",
   "metadata": {},
   "source": [
    "Ошибка стала меньше, несмотря на небольшое переобучение."
   ]
  },
  {
   "cell_type": "code",
   "execution_count": 42,
   "metadata": {},
   "outputs": [
    {
     "name": "stdout",
     "output_type": "stream",
     "text": [
      "[ 82  84  88  90  92  94 102 122 126 128 130 132 134 136 138 140 142 144\n",
      " 146 148]\n"
     ]
    }
   ],
   "source": [
    "# Оптимальное количество деревьев:\n",
    "trees_opt = trees_arr[test_err == min_test_err]\n",
    "print(trees_opt)"
   ]
  },
  {
   "cell_type": "markdown",
   "metadata": {},
   "source": [
    "Выводы:\n",
    "Минимальное значение ошибки достигается при алгоритме Random forest, но есть переобучение (на обучающей выборке:  0.0, на тестовой выборке:  0.00462962962963). \n",
    "Ошибка в два раза больше наблюдается у Extremely Randomized Trees, а у Gradient Boosted Trees в три раза больше. \n",
    "У алгоритма Adaboost ошибки имеют большое значение. "
   ]
  }
 ],
 "metadata": {
  "kernelspec": {
   "display_name": "Python 3",
   "language": "python",
   "name": "python3"
  },
  "language_info": {
   "codemirror_mode": {
    "name": "ipython",
    "version": 3
   },
   "file_extension": ".py",
   "mimetype": "text/x-python",
   "name": "python",
   "nbconvert_exporter": "python",
   "pygments_lexer": "ipython3",
   "version": "3.6.1"
  }
 },
 "nbformat": 4,
 "nbformat_minor": 2
}
