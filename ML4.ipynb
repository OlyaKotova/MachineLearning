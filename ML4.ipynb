{
 "cells": [
  {
   "cell_type": "markdown",
   "metadata": {},
   "source": [
    "## Загружаем нужные библиотеки:"
   ]
  },
  {
   "cell_type": "code",
   "execution_count": 1,
   "metadata": {
    "collapsed": true
   },
   "outputs": [],
   "source": [
    "import numpy as np\n",
    "import matplotlib.pyplot as plt\n",
    "%matplotlib inline"
   ]
  },
  {
   "cell_type": "code",
   "execution_count": 2,
   "metadata": {
    "collapsed": true
   },
   "outputs": [],
   "source": [
    "import numpy as np\n",
    "import matplotlib.pyplot as plt\n",
    "import pandas as pd\n",
    "%matplotlib inline"
   ]
  },
  {
   "cell_type": "code",
   "execution_count": 3,
   "metadata": {
    "collapsed": true
   },
   "outputs": [],
   "source": [
    "url = 'https://github.com/OlyaKotova/MachineLearning/tree/master/Data_Cortex_Nuclear(csv).csv'\n",
    "data = pd.read_csv(url, sep = ',', engine = 'python')"
   ]
  },
  {
   "cell_type": "markdown",
   "metadata": {},
   "source": [
    "## Заполнение пустых"
   ]
  },
  {
   "cell_type": "code",
   "execution_count": 5,
   "metadata": {},
   "outputs": [
    {
     "data": {
      "text/plain": [
       "MouseID            1080\n",
       "DYRK1A_N           1077\n",
       "ITSN1_N            1077\n",
       "BDNF_N             1077\n",
       "NR1_N              1077\n",
       "NR2A_N             1077\n",
       "pAKT_N             1077\n",
       "pBRAF_N            1077\n",
       "pCAMKII_N          1077\n",
       "pCREB_N            1077\n",
       "pELK_N             1077\n",
       "pERK_N             1077\n",
       "pJNK_N             1077\n",
       "PKCA_N             1077\n",
       "pMEK_N             1077\n",
       "pNR1_N             1077\n",
       "pNR2A_N            1077\n",
       "pNR2B_N            1077\n",
       "pPKCAB_N           1077\n",
       "pRSK_N             1077\n",
       "AKT_N              1077\n",
       "BRAF_N             1077\n",
       "CAMKII_N           1077\n",
       "CREB_N             1077\n",
       "ELK_N              1062\n",
       "ERK_N              1077\n",
       "GSK3B_N            1077\n",
       "JNK_N              1077\n",
       "MEK_N              1073\n",
       "TRKA_N             1077\n",
       "                   ... \n",
       "RRP1_N             1080\n",
       "BAX_N              1080\n",
       "ARC_N              1080\n",
       "ERBB4_N            1080\n",
       "nNOS_N             1080\n",
       "Tau_N              1080\n",
       "GFAP_N             1080\n",
       "GluR3_N            1080\n",
       "GluR4_N            1080\n",
       "IL1B_N             1080\n",
       "P3525_N            1080\n",
       "pCASP9_N           1080\n",
       "PSD95_N            1080\n",
       "SNCA_N             1080\n",
       "Ubiquitin_N        1080\n",
       "pGSK3B_Tyr216_N    1080\n",
       "SHH_N              1080\n",
       "BAD_N               867\n",
       "BCL2_N              795\n",
       "pS6_N              1080\n",
       "pCFOS_N            1005\n",
       "SYP_N              1080\n",
       "H3AcK18_N           900\n",
       "EGR1_N              870\n",
       "H3MeK4_N            810\n",
       "CaNA_N             1080\n",
       "Genotype           1080\n",
       "Treatment          1080\n",
       "Behavior           1080\n",
       "class              1080\n",
       "Length: 82, dtype: int64"
      ]
     },
     "execution_count": 5,
     "metadata": {},
     "output_type": "execute_result"
    }
   ],
   "source": [
    "data.count(axis = 0)"
   ]
  },
  {
   "cell_type": "markdown",
   "metadata": {},
   "source": [
    "Есть пропущеные значения"
   ]
  },
  {
   "cell_type": "code",
   "execution_count": 7,
   "metadata": {
    "collapsed": true
   },
   "outputs": [],
   "source": [
    "data = data.fillna(data.median(axis = 0), axis = 0)"
   ]
  },
  {
   "cell_type": "code",
   "execution_count": 9,
   "metadata": {},
   "outputs": [
    {
     "data": {
      "text/plain": [
       "MouseID            1080\n",
       "DYRK1A_N           1080\n",
       "ITSN1_N            1080\n",
       "BDNF_N             1080\n",
       "NR1_N              1080\n",
       "NR2A_N             1080\n",
       "pAKT_N             1080\n",
       "pBRAF_N            1080\n",
       "pCAMKII_N          1080\n",
       "pCREB_N            1080\n",
       "pELK_N             1080\n",
       "pERK_N             1080\n",
       "pJNK_N             1080\n",
       "PKCA_N             1080\n",
       "pMEK_N             1080\n",
       "pNR1_N             1080\n",
       "pNR2A_N            1080\n",
       "pNR2B_N            1080\n",
       "pPKCAB_N           1080\n",
       "pRSK_N             1080\n",
       "AKT_N              1080\n",
       "BRAF_N             1080\n",
       "CAMKII_N           1080\n",
       "CREB_N             1080\n",
       "ELK_N              1080\n",
       "ERK_N              1080\n",
       "GSK3B_N            1080\n",
       "JNK_N              1080\n",
       "MEK_N              1080\n",
       "TRKA_N             1080\n",
       "                   ... \n",
       "RRP1_N             1080\n",
       "BAX_N              1080\n",
       "ARC_N              1080\n",
       "ERBB4_N            1080\n",
       "nNOS_N             1080\n",
       "Tau_N              1080\n",
       "GFAP_N             1080\n",
       "GluR3_N            1080\n",
       "GluR4_N            1080\n",
       "IL1B_N             1080\n",
       "P3525_N            1080\n",
       "pCASP9_N           1080\n",
       "PSD95_N            1080\n",
       "SNCA_N             1080\n",
       "Ubiquitin_N        1080\n",
       "pGSK3B_Tyr216_N    1080\n",
       "SHH_N              1080\n",
       "BAD_N              1080\n",
       "BCL2_N             1080\n",
       "pS6_N              1080\n",
       "pCFOS_N            1080\n",
       "SYP_N              1080\n",
       "H3AcK18_N          1080\n",
       "EGR1_N             1080\n",
       "H3MeK4_N           1080\n",
       "CaNA_N             1080\n",
       "Genotype           1080\n",
       "Treatment          1080\n",
       "Behavior           1080\n",
       "class              1080\n",
       "Length: 82, dtype: int64"
      ]
     },
     "execution_count": 9,
     "metadata": {},
     "output_type": "execute_result"
    }
   ],
   "source": [
    "data.count(axis = 0)"
   ]
  },
  {
   "cell_type": "markdown",
   "metadata": {},
   "source": [
    "удаление столбцов"
   ]
  },
  {
   "cell_type": "code",
   "execution_count": 10,
   "metadata": {
    "collapsed": true
   },
   "outputs": [],
   "source": [
    "data = data.drop('Genotype', axis = 1)  # повотряется\n",
    "data = data.drop('Treatment', axis = 1) # повотряется\n",
    "data = data.drop('Behavior', axis = 1)  # повотряется\n",
    "    \n",
    "data = data.drop('MouseID', axis = 1)   # индетификатор"
   ]
  },
  {
   "cell_type": "code",
   "execution_count": 12,
   "metadata": {
    "collapsed": true
   },
   "outputs": [],
   "source": [
    "X = data.drop(('class'), axis = 1)\n",
    "y = data['class']"
   ]
  },
  {
   "cell_type": "code",
   "execution_count": 13,
   "metadata": {},
   "outputs": [
    {
     "name": "stdout",
     "output_type": "stream",
     "text": [
      "(1080, 77)\n",
      "(1080,)\n"
     ]
    }
   ],
   "source": [
    "print(X.shape)\n",
    "print(y.shape)"
   ]
  },
  {
   "cell_type": "code",
   "execution_count": 15,
   "metadata": {
    "collapsed": true
   },
   "outputs": [],
   "source": [
    "from sklearn.model_selection import train_test_split\n",
    "X_train, X_test, y_train, y_test = train_test_split(X, y, test_size = 0.4, random_state = 5)\n",
    "N_test, _ = X_test.shape"
   ]
  },
  {
   "cell_type": "markdown",
   "metadata": {},
   "source": [
    "# RCA"
   ]
  },
  {
   "cell_type": "markdown",
   "metadata": {},
   "source": [
    "Попробуем сократить количество признаков с 77 до 50."
   ]
  },
  {
   "cell_type": "code",
   "execution_count": 16,
   "metadata": {
    "collapsed": true
   },
   "outputs": [],
   "source": [
    "from sklearn import decomposition\n",
    "pca = decomposition.PCA(n_components = 50)\n",
    "X_train_reduc = pca.fit_transform(X_train)\n",
    "X_test_reduc = pca.transform(X_test)"
   ]
  },
  {
   "cell_type": "code",
   "execution_count": 37,
   "metadata": {},
   "outputs": [
    {
     "name": "stdout",
     "output_type": "stream",
     "text": [
      "Ошибка на обучающей выборке:  0.00154320987654\n",
      "Ошибка на тестовой выборке:  0.0949074074074\n",
      "Возможно переобучение\n"
     ]
    }
   ],
   "source": [
    "from sklearn import ensemble\n",
    "rf = ensemble.GradientBoostingClassifier(n_estimators = 23)\n",
    "rf.fit(X_train_reduc, y_train)\n",
    "\n",
    "err_train = np.mean(y_train != rf.predict(X_train_reduc))\n",
    "err_test  = np.mean(y_test  != rf.predict(X_test_reduc))\n",
    "\n",
    "print(\"Ошибка на обучающей выборке: \", err_train)\n",
    "print(\"Ошибка на тестовой выборке: \", err_test)\n",
    "if err_test > err_train : print(\"Возможно переобучение\")"
   ]
  },
  {
   "cell_type": "markdown",
   "metadata": {},
   "source": [
    "Найдем число признаков, которые дадут минимальную ошибку."
   ]
  },
  {
   "cell_type": "code",
   "execution_count": 38,
   "metadata": {
    "collapsed": true
   },
   "outputs": [],
   "source": [
    "components = np.arange(1, 77, 2)\n",
    "test_err = []\n",
    "train_err = []\n",
    "for component in components:\n",
    "    pca = decomposition.PCA(n_components = component)\n",
    "    X_train_reduc = pca.fit_transform(X_train)\n",
    "    X_test_reduc = pca.transform(X_test)\n",
    "    ert = ensemble.GradientBoostingClassifier(n_estimators = 23)\n",
    "    ert.fit(X_train_reduc, y_train)\n",
    "    train_err.append(np.mean(y_train != ert.predict(X_train_reduc)))\n",
    "    test_err.append(np.mean(y_test  != ert.predict(X_test_reduc)))"
   ]
  },
  {
   "cell_type": "code",
   "execution_count": 40,
   "metadata": {},
   "outputs": [
    {
     "data": {
      "image/png": "[encoded data removed]",
      "text/plain": [
       "<matplotlib.figure.Figure at 0x1962a46cfd0>"
      ]
     },
     "metadata": {},
     "output_type": "display_data"
    }
   ],
   "source": [
    "plt.plot(components, train_err, 'b-o', label = 'train')\n",
    "plt.plot(components, test_err, 'r-o', label = 'test')\n",
    "plt.xlim([np.min(components), np.max(components)])\n",
    "plt.title('Error vs. Components')\n",
    "plt.xlabel('components')\n",
    "plt.ylabel('error')\n",
    "plt.legend()\n",
    "pass"
   ]
  },
  {
   "cell_type": "markdown",
   "metadata": {},
   "source": [
    "Вероятность ошибки на разных тестовых и обучающих выборках практически не зависит от количества признаков.\n",
    "Найдём число признаков, соответствующих минимальной ошибке, а также саму ошибку."
   ]
  },
  {
   "cell_type": "code",
   "execution_count": 43,
   "metadata": {},
   "outputs": [
    {
     "name": "stdout",
     "output_type": "stream",
     "text": [
      "Число признаков соответствующих минимальной ошибке:  23\n",
      "Ошибка на обучающей выборке:  0.00154320987654\n",
      "Ошибка на тестовой выборке:  0.0949074074074\n",
      "Возможно переобучение\n"
     ]
    }
   ],
   "source": [
    "min_train_err = np.min(train_err)\n",
    "min_test_err = np.min(test_err)\n",
    "\n",
    "components_opt = components[test_err == min_test_err]\n",
    "components_opt = components_opt[0]\n",
    "\n",
    "print(\"Число признаков соответствующих минимальной ошибке: \", components_opt)\n",
    "print(\"Ошибка на обучающей выборке: \", err_train)\n",
    "print(\"Ошибка на тестовой выборке: \", err_test)\n",
    "if err_test > err_train : print(\"Возможно переобучение\")"
   ]
  },
  {
   "cell_type": "markdown",
   "metadata": {},
   "source": [
    "Вывод: Число признаков, которое было определено методом подбора совпадает с ответом. "
   ]
  }
 ],
 "metadata": {
  "kernelspec": {
   "display_name": "Python 3",
   "language": "python",
   "name": "python3"
  },
  "language_info": {
   "codemirror_mode": {
    "name": "ipython",
    "version": 3
   },
   "file_extension": ".py",
   "mimetype": "text/x-python",
   "name": "python",
   "nbconvert_exporter": "python",
   "pygments_lexer": "ipython3",
   "version": "3.6.1"
  }
 },
 "nbformat": 4,
 "nbformat_minor": 2
}
